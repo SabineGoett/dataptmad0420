{
 "cells": [
  {
   "cell_type": "markdown",
   "metadata": {},
   "source": [
    "# Introduction to NumPy\n",
    "\n",
    "\n",
    "#### 1. Import NumPy under the name np."
   ]
  },
  {
   "cell_type": "code",
   "execution_count": 2,
   "metadata": {},
   "outputs": [],
   "source": [
    "# your code here\n",
    "import numpy as np"
   ]
  },
  {
   "cell_type": "markdown",
   "metadata": {},
   "source": [
    "#### 2. Print your NumPy version."
   ]
  },
  {
   "cell_type": "code",
   "execution_count": 3,
   "metadata": {},
   "outputs": [
    {
     "name": "stdout",
     "output_type": "stream",
     "text": [
      "1.18.1\n"
     ]
    }
   ],
   "source": [
    "# your code here\n",
    "print(np.__version__)"
   ]
  },
  {
   "cell_type": "markdown",
   "metadata": {},
   "source": [
    "#### 3. Generate a 2x3x5 3-dimensional array with random values. Assign the array to variable *a*.\n",
    "**Challenge**: there are at least three easy ways that use numpy to generate random arrays. How many ways can you find?"
   ]
  },
  {
   "cell_type": "code",
   "execution_count": 5,
   "metadata": {},
   "outputs": [],
   "source": [
    "# Method 1\n",
    "from numpy import random\n",
    "a = random.rand(2, 3, 5)\n"
   ]
  },
  {
   "cell_type": "code",
   "execution_count": 6,
   "metadata": {},
   "outputs": [],
   "source": [
    "# Method 2\n",
    "a= np.random.random((2, 3, 5))\n"
   ]
  },
  {
   "cell_type": "code",
   "execution_count": 3,
   "metadata": {},
   "outputs": [],
   "source": [
    "# Method 3\n",
    "a = np.random.sample((2,3,5))"
   ]
  },
  {
   "cell_type": "markdown",
   "metadata": {},
   "source": [
    "#### 4. Print *a*.\n"
   ]
  },
  {
   "cell_type": "code",
   "execution_count": 7,
   "metadata": {},
   "outputs": [
    {
     "name": "stdout",
     "output_type": "stream",
     "text": [
      "[[[0.62307699 0.42753027 0.86727638 0.12829398 0.12269526]\n",
      "  [0.67557508 0.99754949 0.35055356 0.48428129 0.55925252]\n",
      "  [0.36501236 0.8637045  0.78652245 0.01351863 0.84711834]]\n",
      "\n",
      " [[0.80451991 0.8919122  0.00892594 0.31197869 0.23056855]\n",
      "  [0.52232    0.76856451 0.93891037 0.89364966 0.02767953]\n",
      "  [0.11274919 0.6858805  0.91777417 0.58152577 0.25469733]]]\n"
     ]
    }
   ],
   "source": [
    "# your code here\n",
    "print(a)"
   ]
  },
  {
   "cell_type": "markdown",
   "metadata": {},
   "source": [
    "#### 5. Create a 5x2x3 3-dimensional array with all values equaling 1. Assign the array to variable *b*."
   ]
  },
  {
   "cell_type": "code",
   "execution_count": 8,
   "metadata": {},
   "outputs": [],
   "source": [
    "# your code here\n",
    "b = np.ones((5,2,3))"
   ]
  },
  {
   "cell_type": "markdown",
   "metadata": {},
   "source": [
    "#### 6. Print *b*.\n"
   ]
  },
  {
   "cell_type": "code",
   "execution_count": 9,
   "metadata": {},
   "outputs": [
    {
     "name": "stdout",
     "output_type": "stream",
     "text": [
      "[[[1. 1. 1.]\n",
      "  [1. 1. 1.]]\n",
      "\n",
      " [[1. 1. 1.]\n",
      "  [1. 1. 1.]]\n",
      "\n",
      " [[1. 1. 1.]\n",
      "  [1. 1. 1.]]\n",
      "\n",
      " [[1. 1. 1.]\n",
      "  [1. 1. 1.]]\n",
      "\n",
      " [[1. 1. 1.]\n",
      "  [1. 1. 1.]]]\n"
     ]
    }
   ],
   "source": [
    "# your code here\n",
    "print(b)"
   ]
  },
  {
   "cell_type": "markdown",
   "metadata": {},
   "source": [
    "#### 7. Do *a* and *b* have the same size? How do you prove that in Python code?"
   ]
  },
  {
   "cell_type": "code",
   "execution_count": 9,
   "metadata": {},
   "outputs": [
    {
     "data": {
      "text/plain": [
       "True"
      ]
     },
     "execution_count": 9,
     "metadata": {},
     "output_type": "execute_result"
    }
   ],
   "source": [
    "# your code here\n",
    "a.size == b.size"
   ]
  },
  {
   "cell_type": "markdown",
   "metadata": {},
   "source": [
    "#### 8. Are you able to add *a* and *b*? Why or why not?\n"
   ]
  },
  {
   "cell_type": "code",
   "execution_count": null,
   "metadata": {},
   "outputs": [],
   "source": [
    "# your answer here\n",
    "# you cannot add a and b, because they have different shapes."
   ]
  },
  {
   "cell_type": "markdown",
   "metadata": {},
   "source": [
    "#### 9. Transpose *b* so that it has the same structure of *a* (i.e. become a 2x3x5 array). Assign the transposed array to variable *c*."
   ]
  },
  {
   "cell_type": "code",
   "execution_count": 11,
   "metadata": {},
   "outputs": [
    {
     "name": "stdout",
     "output_type": "stream",
     "text": [
      "(2, 3, 5)\n",
      "(5, 2, 3)\n",
      "(2, 3, 5)\n"
     ]
    }
   ],
   "source": [
    "# your code here\n",
    "print(a.shape)\n",
    "print(b.shape)\n",
    "c = b.reshape(2,3,5)\n",
    "print(c.shape)"
   ]
  },
  {
   "cell_type": "markdown",
   "metadata": {},
   "source": [
    "#### 10. Try to add *a* and *c*. Now it should work. Assign the sum to variable *d*. But why does it work now?"
   ]
  },
  {
   "cell_type": "code",
   "execution_count": 12,
   "metadata": {},
   "outputs": [],
   "source": [
    "# your code/answer here\n",
    "# now it can be added, because the two arrays have the same shape.\n",
    "\n",
    "d = a+c"
   ]
  },
  {
   "cell_type": "markdown",
   "metadata": {},
   "source": [
    "#### 11. Print *a* and *d*. Notice the difference and relation of the two array in terms of the values? Explain."
   ]
  },
  {
   "cell_type": "code",
   "execution_count": 13,
   "metadata": {},
   "outputs": [
    {
     "name": "stdout",
     "output_type": "stream",
     "text": [
      "[[[0.81368893 0.34833931 0.61717101 0.89402906 0.6315455 ]\n",
      "  [0.41149688 0.96586588 0.83036587 0.32290033 0.86017713]\n",
      "  [0.28765971 0.86594639 0.62850357 0.93546604 0.27605093]]\n",
      "\n",
      " [[0.48089998 0.99725316 0.16866672 0.59682839 0.65618304]\n",
      "  [0.65837441 0.86172368 0.4101617  0.08112969 0.06637897]\n",
      "  [0.19186399 0.03976458 0.83731168 0.60478095 0.90733652]]]\n",
      "[[[1.81368893 1.34833931 1.61717101 1.89402906 1.6315455 ]\n",
      "  [1.41149688 1.96586588 1.83036587 1.32290033 1.86017713]\n",
      "  [1.28765971 1.86594639 1.62850357 1.93546604 1.27605093]]\n",
      "\n",
      " [[1.48089998 1.99725316 1.16866672 1.59682839 1.65618304]\n",
      "  [1.65837441 1.86172368 1.4101617  1.08112969 1.06637897]\n",
      "  [1.19186399 1.03976458 1.83731168 1.60478095 1.90733652]]]\n"
     ]
    }
   ],
   "source": [
    "# your code/answer here\n",
    "# for every value in a the value 1 of b has been added. The shape remains the same.\n",
    "\n",
    "print(a)\n",
    "print(d)"
   ]
  },
  {
   "cell_type": "markdown",
   "metadata": {},
   "source": [
    "#### 12. Multiply *a* and *c*. Assign the result to *e*."
   ]
  },
  {
   "cell_type": "code",
   "execution_count": 13,
   "metadata": {},
   "outputs": [
    {
     "name": "stdout",
     "output_type": "stream",
     "text": [
      "[[[0.62307699 0.42753027 0.86727638 0.12829398 0.12269526]\n",
      "  [0.67557508 0.99754949 0.35055356 0.48428129 0.55925252]\n",
      "  [0.36501236 0.8637045  0.78652245 0.01351863 0.84711834]]\n",
      "\n",
      " [[0.80451991 0.8919122  0.00892594 0.31197869 0.23056855]\n",
      "  [0.52232    0.76856451 0.93891037 0.89364966 0.02767953]\n",
      "  [0.11274919 0.6858805  0.91777417 0.58152577 0.25469733]]]\n"
     ]
    }
   ],
   "source": [
    "# your code here\n",
    "e = a*c\n",
    "print(e)"
   ]
  },
  {
   "cell_type": "markdown",
   "metadata": {},
   "source": [
    "#### 13. Does *e* equal to *a*? Why or why not?\n"
   ]
  },
  {
   "cell_type": "code",
   "execution_count": 15,
   "metadata": {},
   "outputs": [
    {
     "data": {
      "text/plain": [
       "array([[[ True,  True,  True,  True,  True],\n",
       "        [ True,  True,  True,  True,  True],\n",
       "        [ True,  True,  True,  True,  True]],\n",
       "\n",
       "       [[ True,  True,  True,  True,  True],\n",
       "        [ True,  True,  True,  True,  True],\n",
       "        [ True,  True,  True,  True,  True]]])"
      ]
     },
     "execution_count": 15,
     "metadata": {},
     "output_type": "execute_result"
    }
   ],
   "source": [
    "# your code/answer here\n",
    "# all values in the array c are one. Multiplying each values in the array a with 1, the values of the new \n",
    "# array e will not change.\n",
    "a == e"
   ]
  },
  {
   "cell_type": "markdown",
   "metadata": {},
   "source": [
    "#### 14. Identify the max, min, and mean values in *d*. Assign those values to variables *d_max*, *d_min* and *d_mean*."
   ]
  },
  {
   "cell_type": "code",
   "execution_count": 14,
   "metadata": {},
   "outputs": [
    {
     "name": "stdout",
     "output_type": "stream",
     "text": [
      "1.9975494862821666 1.008925943940533 1.5354539143506272\n"
     ]
    }
   ],
   "source": [
    "# your code here\n",
    "d_max=np.max(d)\n",
    "d_min=np.min(d)\n",
    "d_mean=np.mean(d)\n",
    "print(d_max, d_min, d_mean)\n"
   ]
  },
  {
   "cell_type": "markdown",
   "metadata": {},
   "source": [
    "#### 15. Now we want to label the values in *d*. First create an empty array *f* with the same shape (i.e. 2x3x5) as *d* using `np.empty`.\n"
   ]
  },
  {
   "cell_type": "code",
   "execution_count": 15,
   "metadata": {},
   "outputs": [],
   "source": [
    "# your code here\n",
    "f = np.empty((2,3,5))"
   ]
  },
  {
   "cell_type": "markdown",
   "metadata": {},
   "source": [
    "#### 16. Populate the values in *f*. \n",
    "\n",
    "For each value in *d*, if it's larger than *d_min* but smaller than *d_mean*, assign 25 to the corresponding value in *f*. If a value in *d* is larger than *d_mean* but smaller than *d_max*, assign 75 to the corresponding value in *f*. If a value equals to *d_mean*, assign 50 to the corresponding value in *f*. Assign 0 to the corresponding value(s) in *f* for *d_min* in *d*. Assign 100 to the corresponding value(s) in *f* for *d_max* in *d*. In the end, f should have only the following values: 0, 25, 50, 75, and 100.\n",
    "\n",
    "**Note**: you don't have to use Numpy in this question."
   ]
  },
  {
   "cell_type": "code",
   "execution_count": 16,
   "metadata": {},
   "outputs": [
    {
     "name": "stdout",
     "output_type": "stream",
     "text": [
      "[[[ 75  25  75  25  25]\n",
      "  [ 75 100  25  25  75]\n",
      "  [ 25  75  75  25  75]]\n",
      "\n",
      " [[ 75  75   0  25  25]\n",
      "  [ 25  75  75  75  25]\n",
      "  [ 25  75  75  75  25]]]\n",
      "[[[1.62307699 1.42753027 1.86727638 1.12829398 1.12269526]\n",
      "  [1.67557508 1.99754949 1.35055356 1.48428129 1.55925252]\n",
      "  [1.36501236 1.8637045  1.78652245 1.01351863 1.84711834]]\n",
      "\n",
      " [[1.80451991 1.8919122  1.00892594 1.31197869 1.23056855]\n",
      "  [1.52232    1.76856451 1.93891037 1.89364966 1.02767953]\n",
      "  [1.11274919 1.6858805  1.91777417 1.58152577 1.25469733]]]\n"
     ]
    }
   ],
   "source": [
    "# your code here\n",
    "m=[]\n",
    "for dd in d:\n",
    "    for ddd in dd:\n",
    "        for dddd in ddd:\n",
    "            if d_min < dddd < d_mean:\n",
    "                m.append(25)\n",
    "            if d_mean < dddd < d_max:\n",
    "                m.append(75)\n",
    "            if dddd == d_min:\n",
    "                m.append(0)\n",
    "            if dddd == d_mean:\n",
    "                m.append(50)\n",
    "            if dddd == d_max:\n",
    "                m.append(100)\n",
    "h = np.array(m)   \n",
    "\n",
    "f = h.reshape(2,3,5)\n",
    "\n",
    "print(f)\n",
    "print (d)\n"
   ]
  },
  {
   "cell_type": "markdown",
   "metadata": {},
   "source": [
    "#### 17. Print *d* and *f*. Do you have your expected *f*?\n",
    "For instance, if your *d* is:\n",
    "```python\n",
    "[[[1.85836099, 1.67064465, 1.62576044, 1.40243961, 1.88454931],\n",
    "[1.75354326, 1.69403643, 1.36729252, 1.61415071, 1.12104981],\n",
    "[1.72201435, 1.1862918 , 1.87078449, 1.7726778 , 1.88180042]],\n",
    "[[1.44747908, 1.31673383, 1.02000951, 1.52218947, 1.97066381],\n",
    "[1.79129243, 1.74983003, 1.96028037, 1.85166831, 1.65450881],\n",
    "[1.18068344, 1.9587381 , 1.00656599, 1.93402165, 1.73514584]]]\n",
    "```\n",
    "Your *f* should be:\n",
    "```python\n",
    "[[[ 75.,  75.,  75.,  25.,  75.],\n",
    "[ 75.,  75.,  25.,  25.,  25.],\n",
    "[ 75.,  25.,  75.,  75.,  75.]],\n",
    "[[ 25.,  25.,  25.,  25., 100.],\n",
    "[ 75.,  75.,  75.,  75.,  75.],\n",
    "[ 25.,  75.,   0.,  75.,  75.]]]\n",
    "```"
   ]
  },
  {
   "cell_type": "code",
   "execution_count": 17,
   "metadata": {},
   "outputs": [
    {
     "name": "stdout",
     "output_type": "stream",
     "text": [
      "[[[1.62307699 1.42753027 1.86727638 1.12829398 1.12269526]\n",
      "  [1.67557508 1.99754949 1.35055356 1.48428129 1.55925252]\n",
      "  [1.36501236 1.8637045  1.78652245 1.01351863 1.84711834]]\n",
      "\n",
      " [[1.80451991 1.8919122  1.00892594 1.31197869 1.23056855]\n",
      "  [1.52232    1.76856451 1.93891037 1.89364966 1.02767953]\n",
      "  [1.11274919 1.6858805  1.91777417 1.58152577 1.25469733]]]\n",
      "[[[ 75  25  75  25  25]\n",
      "  [ 75 100  25  25  75]\n",
      "  [ 25  75  75  25  75]]\n",
      "\n",
      " [[ 75  75   0  25  25]\n",
      "  [ 25  75  75  75  25]\n",
      "  [ 25  75  75  75  25]]]\n"
     ]
    }
   ],
   "source": [
    "# your code here\n",
    "print(d)\n",
    "print(f)"
   ]
  },
  {
   "cell_type": "markdown",
   "metadata": {},
   "source": [
    "#### 18. Bonus question: instead of using numbers (i.e. 0, 25, 50, 75, and 100), use string values  (\"A\", \"B\", \"C\", \"D\", and \"E\") to label the array elements. For the example above, the expected result is:\n",
    "\n",
    "```python\n",
    "[[[ 'D',  'D',  'D',  'B',  'D'],\n",
    "[ 'D',  'D',  'B',  'B',  'B'],\n",
    "[ 'D',  'B',  'D',  'D',  'D']],\n",
    "[[ 'B',  'B',  'B',  'B',  'E'],\n",
    "[ 'D',  'D',  'D',  'D',  'D'],\n",
    "[ 'B',  'D',   'A',  'D', 'D']]]\n",
    "```\n",
    "**Note**: you don't have to use Numpy in this question."
   ]
  },
  {
   "cell_type": "code",
   "execution_count": 20,
   "metadata": {},
   "outputs": [
    {
     "name": "stdout",
     "output_type": "stream",
     "text": [
      "[[['D' 'B' 'D' 'B' 'B']\n",
      "  ['D' 'E' 'B' 'B' 'D']\n",
      "  ['B' 'D' 'D' 'B' 'D']]\n",
      "\n",
      " [['D' 'D' 'A' 'B' 'B']\n",
      "  ['B' 'D' 'D' 'D' 'B']\n",
      "  ['B' 'D' 'D' 'D' 'B']]]\n",
      "[[[1.62307699 1.42753027 1.86727638 1.12829398 1.12269526]\n",
      "  [1.67557508 1.99754949 1.35055356 1.48428129 1.55925252]\n",
      "  [1.36501236 1.8637045  1.78652245 1.01351863 1.84711834]]\n",
      "\n",
      " [[1.80451991 1.8919122  1.00892594 1.31197869 1.23056855]\n",
      "  [1.52232    1.76856451 1.93891037 1.89364966 1.02767953]\n",
      "  [1.11274919 1.6858805  1.91777417 1.58152577 1.25469733]]]\n"
     ]
    }
   ],
   "source": [
    "# your code here\n",
    "mB=[]\n",
    "for dd in d:\n",
    "    for ddd in dd:\n",
    "        for dddd in ddd:\n",
    "            if d_min < dddd < d_mean:\n",
    "                mB.append(\"B\")\n",
    "            if d_mean < dddd < d_max:\n",
    "                mB.append(\"D\")\n",
    "            if dddd == d_min:\n",
    "                mB.append(\"A\")\n",
    "            if dddd == d_mean:\n",
    "                mB.append(\"C\")\n",
    "            if dddd == d_max:\n",
    "                mB.append(\"E\")\n",
    "hB = np.array(mB)   \n",
    "\n",
    "fB = hB.reshape(2,3,5)\n",
    "\n",
    "print(fB)\n",
    "print (d)\n",
    "\n"
   ]
  },
  {
   "cell_type": "code",
   "execution_count": null,
   "metadata": {},
   "outputs": [],
   "source": []
  }
 ],
 "metadata": {
  "kernelspec": {
   "display_name": "Python [conda env:IH_env]",
   "language": "python",
   "name": "conda-env-IH_env-py"
  },
  "language_info": {
   "codemirror_mode": {
    "name": "ipython",
    "version": 3
   },
   "file_extension": ".py",
   "mimetype": "text/x-python",
   "name": "python",
   "nbconvert_exporter": "python",
   "pygments_lexer": "ipython3",
   "version": "3.7.7"
  }
 },
 "nbformat": 4,
 "nbformat_minor": 2
}
